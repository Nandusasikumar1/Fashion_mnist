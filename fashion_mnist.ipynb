{
  "nbformat": 4,
  "nbformat_minor": 0,
  "metadata": {
    "colab": {
      "provenance": [],
      "authorship_tag": "ABX9TyMIw4//rLvITjjw+/kNMRiv",
      "include_colab_link": true
    },
    "kernelspec": {
      "name": "python3",
      "display_name": "Python 3"
    },
    "language_info": {
      "name": "python"
    },
    "accelerator": "GPU",
    "gpuClass": "standard",
    "widgets": {
      "application/vnd.jupyter.widget-state+json": {
        "ac4227541de54b17a2f2f20687b39eb0": {
          "model_module": "@jupyter-widgets/controls",
          "model_name": "HBoxModel",
          "model_module_version": "1.5.0",
          "state": {
            "_dom_classes": [],
            "_model_module": "@jupyter-widgets/controls",
            "_model_module_version": "1.5.0",
            "_model_name": "HBoxModel",
            "_view_count": null,
            "_view_module": "@jupyter-widgets/controls",
            "_view_module_version": "1.5.0",
            "_view_name": "HBoxView",
            "box_style": "",
            "children": [
              "IPY_MODEL_fd92756a66124059a607bcfb11def953",
              "IPY_MODEL_f54693b78498410fb73a6989eedd7d4a",
              "IPY_MODEL_446bf396c9ee4117aa5b56055cbab790"
            ],
            "layout": "IPY_MODEL_de5b99aaec7a45bbb06487c75b078da0"
          }
        },
        "fd92756a66124059a607bcfb11def953": {
          "model_module": "@jupyter-widgets/controls",
          "model_name": "HTMLModel",
          "model_module_version": "1.5.0",
          "state": {
            "_dom_classes": [],
            "_model_module": "@jupyter-widgets/controls",
            "_model_module_version": "1.5.0",
            "_model_name": "HTMLModel",
            "_view_count": null,
            "_view_module": "@jupyter-widgets/controls",
            "_view_module_version": "1.5.0",
            "_view_name": "HTMLView",
            "description": "",
            "description_tooltip": null,
            "layout": "IPY_MODEL_2ff1d653732c406daf230994fddfca33",
            "placeholder": "​",
            "style": "IPY_MODEL_3782562c4b7e45f686abf1c8a5d3fa4a",
            "value": "100%"
          }
        },
        "f54693b78498410fb73a6989eedd7d4a": {
          "model_module": "@jupyter-widgets/controls",
          "model_name": "FloatProgressModel",
          "model_module_version": "1.5.0",
          "state": {
            "_dom_classes": [],
            "_model_module": "@jupyter-widgets/controls",
            "_model_module_version": "1.5.0",
            "_model_name": "FloatProgressModel",
            "_view_count": null,
            "_view_module": "@jupyter-widgets/controls",
            "_view_module_version": "1.5.0",
            "_view_name": "ProgressView",
            "bar_style": "success",
            "description": "",
            "description_tooltip": null,
            "layout": "IPY_MODEL_53e2efce1448449eb293dd42c7a2aabf",
            "max": 8,
            "min": 0,
            "orientation": "horizontal",
            "style": "IPY_MODEL_225adcd9247845559a38a9b01351770f",
            "value": 8
          }
        },
        "446bf396c9ee4117aa5b56055cbab790": {
          "model_module": "@jupyter-widgets/controls",
          "model_name": "HTMLModel",
          "model_module_version": "1.5.0",
          "state": {
            "_dom_classes": [],
            "_model_module": "@jupyter-widgets/controls",
            "_model_module_version": "1.5.0",
            "_model_name": "HTMLModel",
            "_view_count": null,
            "_view_module": "@jupyter-widgets/controls",
            "_view_module_version": "1.5.0",
            "_view_name": "HTMLView",
            "description": "",
            "description_tooltip": null,
            "layout": "IPY_MODEL_501720278f3842a9aaf24d531542fa89",
            "placeholder": "​",
            "style": "IPY_MODEL_41ae58c4354048eabe25f072542ea5ab",
            "value": " 8/8 [01:30&lt;00:00, 10.85s/it]"
          }
        },
        "de5b99aaec7a45bbb06487c75b078da0": {
          "model_module": "@jupyter-widgets/base",
          "model_name": "LayoutModel",
          "model_module_version": "1.2.0",
          "state": {
            "_model_module": "@jupyter-widgets/base",
            "_model_module_version": "1.2.0",
            "_model_name": "LayoutModel",
            "_view_count": null,
            "_view_module": "@jupyter-widgets/base",
            "_view_module_version": "1.2.0",
            "_view_name": "LayoutView",
            "align_content": null,
            "align_items": null,
            "align_self": null,
            "border": null,
            "bottom": null,
            "display": null,
            "flex": null,
            "flex_flow": null,
            "grid_area": null,
            "grid_auto_columns": null,
            "grid_auto_flow": null,
            "grid_auto_rows": null,
            "grid_column": null,
            "grid_gap": null,
            "grid_row": null,
            "grid_template_areas": null,
            "grid_template_columns": null,
            "grid_template_rows": null,
            "height": null,
            "justify_content": null,
            "justify_items": null,
            "left": null,
            "margin": null,
            "max_height": null,
            "max_width": null,
            "min_height": null,
            "min_width": null,
            "object_fit": null,
            "object_position": null,
            "order": null,
            "overflow": null,
            "overflow_x": null,
            "overflow_y": null,
            "padding": null,
            "right": null,
            "top": null,
            "visibility": null,
            "width": null
          }
        },
        "2ff1d653732c406daf230994fddfca33": {
          "model_module": "@jupyter-widgets/base",
          "model_name": "LayoutModel",
          "model_module_version": "1.2.0",
          "state": {
            "_model_module": "@jupyter-widgets/base",
            "_model_module_version": "1.2.0",
            "_model_name": "LayoutModel",
            "_view_count": null,
            "_view_module": "@jupyter-widgets/base",
            "_view_module_version": "1.2.0",
            "_view_name": "LayoutView",
            "align_content": null,
            "align_items": null,
            "align_self": null,
            "border": null,
            "bottom": null,
            "display": null,
            "flex": null,
            "flex_flow": null,
            "grid_area": null,
            "grid_auto_columns": null,
            "grid_auto_flow": null,
            "grid_auto_rows": null,
            "grid_column": null,
            "grid_gap": null,
            "grid_row": null,
            "grid_template_areas": null,
            "grid_template_columns": null,
            "grid_template_rows": null,
            "height": null,
            "justify_content": null,
            "justify_items": null,
            "left": null,
            "margin": null,
            "max_height": null,
            "max_width": null,
            "min_height": null,
            "min_width": null,
            "object_fit": null,
            "object_position": null,
            "order": null,
            "overflow": null,
            "overflow_x": null,
            "overflow_y": null,
            "padding": null,
            "right": null,
            "top": null,
            "visibility": null,
            "width": null
          }
        },
        "3782562c4b7e45f686abf1c8a5d3fa4a": {
          "model_module": "@jupyter-widgets/controls",
          "model_name": "DescriptionStyleModel",
          "model_module_version": "1.5.0",
          "state": {
            "_model_module": "@jupyter-widgets/controls",
            "_model_module_version": "1.5.0",
            "_model_name": "DescriptionStyleModel",
            "_view_count": null,
            "_view_module": "@jupyter-widgets/base",
            "_view_module_version": "1.2.0",
            "_view_name": "StyleView",
            "description_width": ""
          }
        },
        "53e2efce1448449eb293dd42c7a2aabf": {
          "model_module": "@jupyter-widgets/base",
          "model_name": "LayoutModel",
          "model_module_version": "1.2.0",
          "state": {
            "_model_module": "@jupyter-widgets/base",
            "_model_module_version": "1.2.0",
            "_model_name": "LayoutModel",
            "_view_count": null,
            "_view_module": "@jupyter-widgets/base",
            "_view_module_version": "1.2.0",
            "_view_name": "LayoutView",
            "align_content": null,
            "align_items": null,
            "align_self": null,
            "border": null,
            "bottom": null,
            "display": null,
            "flex": null,
            "flex_flow": null,
            "grid_area": null,
            "grid_auto_columns": null,
            "grid_auto_flow": null,
            "grid_auto_rows": null,
            "grid_column": null,
            "grid_gap": null,
            "grid_row": null,
            "grid_template_areas": null,
            "grid_template_columns": null,
            "grid_template_rows": null,
            "height": null,
            "justify_content": null,
            "justify_items": null,
            "left": null,
            "margin": null,
            "max_height": null,
            "max_width": null,
            "min_height": null,
            "min_width": null,
            "object_fit": null,
            "object_position": null,
            "order": null,
            "overflow": null,
            "overflow_x": null,
            "overflow_y": null,
            "padding": null,
            "right": null,
            "top": null,
            "visibility": null,
            "width": null
          }
        },
        "225adcd9247845559a38a9b01351770f": {
          "model_module": "@jupyter-widgets/controls",
          "model_name": "ProgressStyleModel",
          "model_module_version": "1.5.0",
          "state": {
            "_model_module": "@jupyter-widgets/controls",
            "_model_module_version": "1.5.0",
            "_model_name": "ProgressStyleModel",
            "_view_count": null,
            "_view_module": "@jupyter-widgets/base",
            "_view_module_version": "1.2.0",
            "_view_name": "StyleView",
            "bar_color": null,
            "description_width": ""
          }
        },
        "501720278f3842a9aaf24d531542fa89": {
          "model_module": "@jupyter-widgets/base",
          "model_name": "LayoutModel",
          "model_module_version": "1.2.0",
          "state": {
            "_model_module": "@jupyter-widgets/base",
            "_model_module_version": "1.2.0",
            "_model_name": "LayoutModel",
            "_view_count": null,
            "_view_module": "@jupyter-widgets/base",
            "_view_module_version": "1.2.0",
            "_view_name": "LayoutView",
            "align_content": null,
            "align_items": null,
            "align_self": null,
            "border": null,
            "bottom": null,
            "display": null,
            "flex": null,
            "flex_flow": null,
            "grid_area": null,
            "grid_auto_columns": null,
            "grid_auto_flow": null,
            "grid_auto_rows": null,
            "grid_column": null,
            "grid_gap": null,
            "grid_row": null,
            "grid_template_areas": null,
            "grid_template_columns": null,
            "grid_template_rows": null,
            "height": null,
            "justify_content": null,
            "justify_items": null,
            "left": null,
            "margin": null,
            "max_height": null,
            "max_width": null,
            "min_height": null,
            "min_width": null,
            "object_fit": null,
            "object_position": null,
            "order": null,
            "overflow": null,
            "overflow_x": null,
            "overflow_y": null,
            "padding": null,
            "right": null,
            "top": null,
            "visibility": null,
            "width": null
          }
        },
        "41ae58c4354048eabe25f072542ea5ab": {
          "model_module": "@jupyter-widgets/controls",
          "model_name": "DescriptionStyleModel",
          "model_module_version": "1.5.0",
          "state": {
            "_model_module": "@jupyter-widgets/controls",
            "_model_module_version": "1.5.0",
            "_model_name": "DescriptionStyleModel",
            "_view_count": null,
            "_view_module": "@jupyter-widgets/base",
            "_view_module_version": "1.2.0",
            "_view_name": "StyleView",
            "description_width": ""
          }
        }
      }
    }
  },
  "cells": [
    {
      "cell_type": "markdown",
      "metadata": {
        "id": "view-in-github",
        "colab_type": "text"
      },
      "source": [
        "<a href=\"https://colab.research.google.com/github/Nandusasikumar1/Fashion_mnist/blob/main/fashion_mnist.ipynb\" target=\"_parent\"><img src=\"https://colab.research.google.com/assets/colab-badge.svg\" alt=\"Open In Colab\"/></a>"
      ]
    },
    {
      "cell_type": "code",
      "execution_count": 19,
      "metadata": {
        "id": "0jfHaYndal2F"
      },
      "outputs": [],
      "source": [
        "import torch\n",
        "from torch import nn\n",
        "\n",
        "import torchvision\n",
        "from torchvision import datasets,transforms\n",
        "from torchvision.transforms import ToTensor\n",
        "\n",
        "import matplotlib.pyplot as plt"
      ]
    },
    {
      "cell_type": "markdown",
      "source": [
        "## Loading Fashionmnist Dataset"
      ],
      "metadata": {
        "id": "amLRpr5WkM6v"
      }
    },
    {
      "cell_type": "code",
      "source": [
        "from torchvision import datasets\n",
        "\n",
        "train_data = datasets.FashionMNIST(root='data',# where to download data to\n",
        "                                   train  = True,\n",
        "                                   download =True,\n",
        "                                   transform=ToTensor(),\n",
        "                                   target_transform=None)\n",
        "\n",
        "test_data = datasets.FashionMNIST(root='data',# where to download data to\n",
        "                                   train  = False,\n",
        "                                   download =True,\n",
        "                                   transform=ToTensor(),\n",
        "                                   target_transform=None)"
      ],
      "metadata": {
        "id": "xC78nMS0bGOi"
      },
      "execution_count": 20,
      "outputs": []
    },
    {
      "cell_type": "markdown",
      "source": [
        "#Creating data loader for training and test data"
      ],
      "metadata": {
        "id": "JHbX8gBikk4E"
      }
    },
    {
      "cell_type": "code",
      "source": [
        "from  torch.utils.data import DataLoader\n",
        "\n",
        "Batch_size = 32\n",
        "\n",
        "train_data_loader = DataLoader(dataset = train_data,\n",
        "                               batch_size = Batch_size,\n",
        "                               shuffle=True)\n",
        "\n",
        "test_data_loader = DataLoader(dataset = test_data,\n",
        "                              batch_size=Batch_size,\n",
        "                              shuffle=False)\n",
        "\n",
        "train_data_loader,test_data_loader"
      ],
      "metadata": {
        "colab": {
          "base_uri": "https://localhost:8080/"
        },
        "id": "J21naobjbHcS",
        "outputId": "64ba9eef-90dc-474c-98fd-deb1a3585bd8"
      },
      "execution_count": 21,
      "outputs": [
        {
          "output_type": "execute_result",
          "data": {
            "text/plain": [
              "(<torch.utils.data.dataloader.DataLoader at 0x7fea40ab8bb0>,\n",
              " <torch.utils.data.dataloader.DataLoader at 0x7fea40ab84f0>)"
            ]
          },
          "metadata": {},
          "execution_count": 21
        }
      ]
    },
    {
      "cell_type": "markdown",
      "source": [
        "## create device variable to switch between hardware accelerators(cpu or gpu)"
      ],
      "metadata": {
        "id": "u_3-xsexkrOh"
      }
    },
    {
      "cell_type": "code",
      "source": [
        "device = 'cuda' if torch.cuda.is_available() else 'cpu'"
      ],
      "metadata": {
        "id": "sYIL6F7FbOoF"
      },
      "execution_count": 22,
      "outputs": []
    },
    {
      "cell_type": "markdown",
      "source": [
        "##Creating a function for training the data"
      ],
      "metadata": {
        "id": "g8v38wjglEeL"
      }
    },
    {
      "cell_type": "code",
      "source": [
        "def train_step(data_loader,model,optimizer,loss_fn,accuracy_fn,device=device):\n",
        "\n",
        "  train_loss,train_acc = 0,0\n",
        "  model.train()\n",
        "\n",
        "  for batch,(image,label) in enumerate(data_loader):\n",
        "    # print(image.shape)\n",
        "\n",
        "    image = image.to(device)\n",
        "    label = label.to(device)\n",
        "    # print(label.dtype)\n",
        "   \n",
        "\n",
        "    y_pred = model(image)\n",
        "\n",
        "    loss = loss_fn(y_pred,label)\n",
        "\n",
        "    train_loss += loss \n",
        "    train_acc += accuracy_fn(y_true=label,y_pred=y_pred.argmax(dim=1))\n",
        "\n",
        "    optimizer.zero_grad()\n",
        "\n",
        "    loss.backward()\n",
        "\n",
        "    optimizer.step()\n",
        "\n",
        "   \n",
        "\n",
        "    \n",
        "    # divide total train loss by length of train data loader\n",
        "  train_loss/=len(data_loader)\n",
        "  train_acc/=len(data_loader)\n",
        "\n",
        "  print(f'Train loss : {train_loss} | train_acc : {train_acc}')"
      ],
      "metadata": {
        "id": "V9xlr3cjcU13"
      },
      "execution_count": 23,
      "outputs": []
    },
    {
      "cell_type": "markdown",
      "source": [
        "## Creating a function for testing the data"
      ],
      "metadata": {
        "id": "arW_ZFdclI6v"
      }
    },
    {
      "cell_type": "code",
      "source": [
        "def test_step(data_loader,model,loss_fn,accuracy_fn,device=device):\n",
        "  test_loss,test_acc = 0,0\n",
        "\n",
        "  model.eval()\n",
        "  with torch.inference_mode():\n",
        "\n",
        "    for image_test,label_test in data_loader:\n",
        "\n",
        "      image_test,label_test = image_test.to(device),label_test.to(device)\n",
        "\n",
        "      test_pred = model(image_test)\n",
        "\n",
        "      test_loss+=loss_fn(test_pred,label_test)\n",
        "      test_acc+= accuracy_fn(y_true=label_test,y_pred=test_pred.argmax(dim=1))\n",
        "\n",
        "    test_loss/=len(data_loader)\n",
        "\n",
        "    test_acc/=len(data_loader)\n",
        "\n",
        "  print(f'Test loss : {test_loss} | test_acc : {test_acc}')"
      ],
      "metadata": {
        "id": "vK_kI4NmclhE"
      },
      "execution_count": 6,
      "outputs": []
    },
    {
      "cell_type": "markdown",
      "source": [
        "## Function for measuring the accuracy of predictions"
      ],
      "metadata": {
        "id": "zP5vYmG4lRVu"
      }
    },
    {
      "cell_type": "code",
      "source": [
        "def accuracy(y_true,y_pred):\n",
        "  correct = torch.eq(y_true,y_pred).sum()\n",
        "  acc = (correct/len(y_pred))*100\n",
        "  return acc"
      ],
      "metadata": {
        "id": "xfak3kc5bgil"
      },
      "execution_count": 24,
      "outputs": []
    },
    {
      "cell_type": "markdown",
      "source": [
        "#Building CNN.\n",
        "\n",
        "## Here I used a 2 convolutional block architecure where each block contains two convolutional layers and one maxpooling layer.Used Relu as activation function"
      ],
      "metadata": {
        "id": "-98Rei89lWP1"
      }
    },
    {
      "cell_type": "code",
      "source": [
        "\n",
        "class FashionMNISTV2(nn.Module):\n",
        "  def __init__(self,input_shape,hidden_units,output_shape):\n",
        "    super().__init__() # values we can set ourseleves in neural network a re called hyperparameters               \n",
        "    self.conv_block_1 = nn.Sequential(\n",
        "        \n",
        "        nn.Conv2d(\n",
        "            in_channels = input_shape,\n",
        "            out_channels= hidden_units,\n",
        "            kernel_size = 3,\n",
        "            stride = 1,\n",
        "            padding = 1\n",
        "        ),\n",
        "\n",
        "        nn.ReLU(),\n",
        "\n",
        "        nn.Conv2d(\n",
        "            in_channels=hidden_units,\n",
        "            out_channels = hidden_units,\n",
        "            kernel_size=3,\n",
        "            stride=1,\n",
        "            padding=1\n",
        "          ),\n",
        "\n",
        "        nn.ReLU(),\n",
        "        nn.MaxPool2d(kernel_size=2)\n",
        "    )\n",
        "\n",
        "\n",
        "\n",
        "#block2\n",
        "\n",
        "\n",
        "    self.conv_block_2 = nn.Sequential(\n",
        "        nn.Conv2d(\n",
        "           in_channels = hidden_units,\n",
        "           out_channels = hidden_units,\n",
        "           kernel_size=3,\n",
        "           stride=1,\n",
        "           padding=1\n",
        "        ),\n",
        "\n",
        "        nn.ReLU(),\n",
        "\n",
        "        nn.Conv2d(\n",
        "            in_channels = hidden_units,\n",
        "            out_channels = hidden_units,\n",
        "            kernel_size=3,\n",
        "            stride=1,\n",
        "            padding=1\n",
        "        ),\n",
        "\n",
        "        nn.ReLU(),\n",
        "        nn.MaxPool2d(kernel_size=2)\n",
        "\n",
        "    )\n",
        "\n",
        "# classifier layer\n",
        "\n",
        "    self.classifier = nn.Sequential(\n",
        "        nn.Flatten(),\n",
        "        nn.Linear(in_features=hidden_units*7*7, #there is a trick to calculate this\n",
        "        out_features=output_shape)\n",
        "     \n",
        "        \n",
        "    )\n",
        "\n",
        "  def forward(self,x):\n",
        "    x=self.conv_block_1(x)\n",
        "    # print(f'output shape of convblock1: {x.shape}')\n",
        "    x=self.conv_block_2(x)\n",
        "    # print(f'output shape of convblock2: {x.shape}')\n",
        "    x=self.classifier(x)\n",
        "    # print(f'output shape of classifier: {x.shape}')\n",
        "    return x\n",
        "\n",
        "torch.manual_seed(42)\n",
        "model = FashionMNISTV2(input_shape=1,\n",
        "                         hidden_units=10,\n",
        "                         output_shape=10).to(device)"
      ],
      "metadata": {
        "id": "fpXhf8ixdJ_t"
      },
      "execution_count": 25,
      "outputs": []
    },
    {
      "cell_type": "markdown",
      "source": [
        "## Create loss function to calculate the loss and optimizer for optimizing the weights and biases in the neural network."
      ],
      "metadata": {
        "id": "Ur7FhAz1mP9g"
      }
    },
    {
      "cell_type": "code",
      "source": [
        "loss_fn = nn.CrossEntropyLoss()\n",
        "optimizer = torch.optim.SGD(params=model.parameters(),\n",
        "                            lr=0.1)\n"
      ],
      "metadata": {
        "id": "uuuoKWwJcnLd"
      },
      "execution_count": 26,
      "outputs": []
    },
    {
      "cell_type": "markdown",
      "source": [
        "## Training"
      ],
      "metadata": {
        "id": "Lprsv22XmjNu"
      }
    },
    {
      "cell_type": "code",
      "source": [
        "from tqdm.auto import tqdm\n",
        "\n",
        "epochs = 8\n",
        "for epoch in tqdm(range(epochs)):\n",
        "  print(f'Epoch : {epoch}\\n')\n",
        "\n",
        "  train_step(model=model,\n",
        "             loss_fn=loss_fn,\n",
        "             optimizer=optimizer,\n",
        "             accuracy_fn=accuracy,\n",
        "             data_loader=train_data_loader)\n",
        "  \n",
        "  test_step(model=model,\n",
        "            \n",
        "            data_loader=test_data_loader,\n",
        "            loss_fn=loss_fn,\n",
        "            accuracy_fn=accuracy,\n",
        "            device=device)"
      ],
      "metadata": {
        "colab": {
          "base_uri": "https://localhost:8080/",
          "height": 605,
          "referenced_widgets": [
            "ac4227541de54b17a2f2f20687b39eb0",
            "fd92756a66124059a607bcfb11def953",
            "f54693b78498410fb73a6989eedd7d4a",
            "446bf396c9ee4117aa5b56055cbab790",
            "de5b99aaec7a45bbb06487c75b078da0",
            "2ff1d653732c406daf230994fddfca33",
            "3782562c4b7e45f686abf1c8a5d3fa4a",
            "53e2efce1448449eb293dd42c7a2aabf",
            "225adcd9247845559a38a9b01351770f",
            "501720278f3842a9aaf24d531542fa89",
            "41ae58c4354048eabe25f072542ea5ab"
          ]
        },
        "id": "0GZpyL6FdX41",
        "outputId": "6ad723db-e8ea-4fdd-c506-ed78c54cb064"
      },
      "execution_count": 27,
      "outputs": [
        {
          "output_type": "display_data",
          "data": {
            "text/plain": [
              "  0%|          | 0/8 [00:00<?, ?it/s]"
            ],
            "application/vnd.jupyter.widget-view+json": {
              "version_major": 2,
              "version_minor": 0,
              "model_id": "ac4227541de54b17a2f2f20687b39eb0"
            }
          },
          "metadata": {}
        },
        {
          "output_type": "stream",
          "name": "stdout",
          "text": [
            "Epoch : 0\n",
            "\n",
            "Train loss : 0.5786511898040771 | train_acc : 79.11666870117188\n",
            "Test loss : 0.39426273107528687 | test_acc : 85.4632568359375\n",
            "Epoch : 1\n",
            "\n",
            "Train loss : 0.3563888669013977 | train_acc : 87.18333435058594\n",
            "Test loss : 0.35927340388298035 | test_acc : 86.7511978149414\n",
            "Epoch : 2\n",
            "\n",
            "Train loss : 0.3189637362957001 | train_acc : 88.5\n",
            "Test loss : 0.3225628733634949 | test_acc : 87.98921203613281\n",
            "Epoch : 3\n",
            "\n",
            "Train loss : 0.2969309985637665 | train_acc : 89.25167083740234\n",
            "Test loss : 0.31213369965553284 | test_acc : 88.60822296142578\n",
            "Epoch : 4\n",
            "\n",
            "Train loss : 0.2847355604171753 | train_acc : 89.6050033569336\n",
            "Test loss : 0.3048416078090668 | test_acc : 89.02755737304688\n",
            "Epoch : 5\n",
            "\n",
            "Train loss : 0.27608129382133484 | train_acc : 89.88999938964844\n",
            "Test loss : 0.2944765090942383 | test_acc : 89.5367431640625\n",
            "Epoch : 6\n",
            "\n",
            "Train loss : 0.2664162516593933 | train_acc : 90.35833740234375\n",
            "Test loss : 0.30725255608558655 | test_acc : 88.7380142211914\n",
            "Epoch : 7\n",
            "\n",
            "Train loss : 0.25841301679611206 | train_acc : 90.67666625976562\n",
            "Test loss : 0.28897160291671753 | test_acc : 89.59664154052734\n"
          ]
        }
      ]
    },
    {
      "cell_type": "markdown",
      "source": [
        "## Making predictions"
      ],
      "metadata": {
        "id": "Pix8By89moDB"
      }
    },
    {
      "cell_type": "code",
      "source": [
        "test_features_batch,test_labels_batch = next(iter(test_data_loader))"
      ],
      "metadata": {
        "id": "uilHqz91djbC"
      },
      "execution_count": 28,
      "outputs": []
    },
    {
      "cell_type": "code",
      "source": [
        "import matplotlib.pyplot as plt\n",
        "plt.imshow(test_features_batch[0][0])"
      ],
      "metadata": {
        "colab": {
          "base_uri": "https://localhost:8080/",
          "height": 282
        },
        "id": "eZgncssKgJCP",
        "outputId": "88cf4a79-c3f6-4c5c-8f1d-f0ffff6011d3"
      },
      "execution_count": 29,
      "outputs": [
        {
          "output_type": "execute_result",
          "data": {
            "text/plain": [
              "<matplotlib.image.AxesImage at 0x7fea3816f820>"
            ]
          },
          "metadata": {},
          "execution_count": 29
        },
        {
          "output_type": "display_data",
          "data": {
            "text/plain": [
              "<Figure size 432x288 with 1 Axes>"
            ],
            "image/png": "[encoded data removed]"
          },
          "metadata": {
            "needs_background": "light"
          }
        }
      ]
    },
    {
      "cell_type": "code",
      "source": [
        "class_map = dict(zip(test_data.class_to_idx.values(),test_data.class_to_idx.keys()))"
      ],
      "metadata": {
        "id": "URNiKROIgSW2"
      },
      "execution_count": 30,
      "outputs": []
    },
    {
      "cell_type": "code",
      "source": [
        "class_map"
      ],
      "metadata": {
        "colab": {
          "base_uri": "https://localhost:8080/"
        },
        "id": "MRS-Do5zigJp",
        "outputId": "9c2e5b07-6ad4-4931-b2c3-63e1e628d70c"
      },
      "execution_count": 31,
      "outputs": [
        {
          "output_type": "execute_result",
          "data": {
            "text/plain": [
              "{0: 'T-shirt/top',\n",
              " 1: 'Trouser',\n",
              " 2: 'Pullover',\n",
              " 3: 'Dress',\n",
              " 4: 'Coat',\n",
              " 5: 'Sandal',\n",
              " 6: 'Shirt',\n",
              " 7: 'Sneaker',\n",
              " 8: 'Bag',\n",
              " 9: 'Ankle boot'}"
            ]
          },
          "metadata": {},
          "execution_count": 31
        }
      ]
    },
    {
      "cell_type": "code",
      "source": [
        "\n",
        "model.eval()\n",
        "with torch.inference_mode():\n",
        "  pred=model(test_features_batch[0].unsqueeze(0).to(device))\n",
        "  print(class_map[pred.argmax(dim=1).item()])"
      ],
      "metadata": {
        "colab": {
          "base_uri": "https://localhost:8080/"
        },
        "id": "8SoNLr4Qh1eJ",
        "outputId": "6e2071e3-dafe-4232-991e-d08f38e8641e"
      },
      "execution_count": 32,
      "outputs": [
        {
          "output_type": "stream",
          "name": "stdout",
          "text": [
            "Ankle boot\n"
          ]
        }
      ]
    },
    {
      "cell_type": "code",
      "source": [
        "print(pred.argmax(dim=1))"
      ],
      "metadata": {
        "colab": {
          "base_uri": "https://localhost:8080/"
        },
        "id": "OslfDW04iCcJ",
        "outputId": "6f7eb953-0ac0-4ec9-94bb-6512918d7a47"
      },
      "execution_count": 33,
      "outputs": [
        {
          "output_type": "stream",
          "name": "stdout",
          "text": [
            "tensor([9], device='cuda:0')\n"
          ]
        }
      ]
    },
    {
      "cell_type": "code",
      "source": [],
      "metadata": {
        "id": "bAXdPqOTiDFW"
      },
      "execution_count": 33,
      "outputs": []
    }
  ]
}